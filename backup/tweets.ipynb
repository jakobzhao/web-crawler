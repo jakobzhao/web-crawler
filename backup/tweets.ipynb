{
  "nbformat": 4,
  "nbformat_minor": 0,
  "metadata": {
    "colab": {
      "provenance": []
    },
    "kernelspec": {
      "name": "python3",
      "display_name": "Python 3"
    },
    "language_info": {
      "name": "python"
    }
  },
  "cells": [
    {
      "cell_type": "code",
      "execution_count": 10,
      "metadata": {
        "id": "UdCRxYT05Hu_"
      },
      "outputs": [],
      "source": [
        "# created on April 20, 2023\n",
        "# @author:          Bo Zhao\n",
        "# @email:           zhaobo@uw.edu\n",
        "# @website:         https://hgis.uw.edu\n",
        "# @organization:    Department of Geography, University of Washington, Seattle\n",
        "# @description:     Search recent tweets using Twitter API V2"
      ]
    },
    {
      "cell_type": "code",
      "source": [
        "!pip install tweepy==4.13.0"
      ],
      "metadata": {
        "id": "37CyYMF95Js1"
      },
      "execution_count": null,
      "outputs": []
    },
    {
      "cell_type": "code",
      "source": [
        "import tweepy\n",
        "import pandas as pd"
      ],
      "metadata": {
        "id": "_rmtuScP5WBv"
      },
      "execution_count": 12,
      "outputs": []
    },
    {
      "cell_type": "code",
      "source": [
        "bearer_token = \"\"\n",
        "client = tweepy.Client(bearer_token)"
      ],
      "metadata": {
        "id": "7iWQ8j2h5Yg1"
      },
      "execution_count": 13,
      "outputs": []
    },
    {
      "cell_type": "code",
      "source": [
        "# Define the search term and the date_since date as variables\n",
        "# read this tutorial: https://dev.to/twitterdev/a-comprehensive-guide-for-using-the-twitter-api-v2-using-tweepy-in-python-15d9\n",
        "search_words = \"BLM  -is:retweet lang:en\"\n",
        "\n",
        "# Search Recent Tweets\n",
        "\n",
        "# This endpoint/method returns Tweets from the last seven days\n",
        "# By default, this endpoint/method returns 10 results\n",
        "# You can retrieve up to 100 Tweets by specifying max_results\n",
        "response = client.search_recent_tweets(\n",
        "    search_words,\n",
        "    max_results = 100,\n",
        "    tweet_fields = ['author_id','created_at','text','lang','geo'],\n",
        "    expansions = ['geo.place_id', 'author_id'],\n",
        "    place_fields = ['place_type', 'geo']\n",
        ")\n",
        "# The method returns a Response object.\n",
        "\n",
        "# In this case, the data field of the Response returned is a list of Tweet objects\n",
        "tweets = response.data\n",
        "\n",
        "# Each Tweet object has default ID and text fields\n",
        "\n",
        "# create an array to store the result\n",
        "result = []\n",
        "\n",
        "\n",
        "# # Iterate and print tweets\n",
        "# for tweet in tweets:\n",
        "#     print(tweet.author_id)      # print the author id of the tweet\n",
        "#     print(tweet.text)           # print the text\n",
        "#     print(tweet.data['lang'])   # print the language (PL, since we're filtering by it)\n",
        "#     print(tweet.geo)\n",
        "\n",
        "# Iterate and print tweets\n",
        "for tweet in tweets:\n",
        "    row = {\n",
        "        'userid': tweet.author_id,\n",
        "        'lang': tweet.lang,\n",
        "        'created_at': str(tweet.created_at),\n",
        "        'text': tweet.text,\n",
        "        'geo': tweet.geo\n",
        "    }\n",
        "    result.append(row)\n",
        "    print(row)\n",
        "\n",
        "# Store the results as a pandas dataframe\n",
        "df = pd.DataFrame(result)\n",
        "\n",
        "# notify the completion of the crawling in the console.\n",
        "print(\"the crawling task is finished.\")"
      ],
      "metadata": {
        "id": "RZ79abc96uJv"
      },
      "execution_count": null,
      "outputs": []
    },
    {
      "cell_type": "code",
      "source": [
        "# Create data on to Google Drive\n",
        "from google.colab import drive\n",
        "# Mount your Drive to the Colab VM.\n",
        "drive.mount('/gdrive')\n",
        "# the file path where to store the output csv on google drive\n",
        "output_file = '/gdrive/My Drive/twsearch-result.csv'\n",
        "  \n",
        "df.to_csv(output_file, index=False)"
      ],
      "metadata": {
        "colab": {
          "base_uri": "https://localhost:8080/"
        },
        "id": "_PETpxUnGZ0M",
        "outputId": "a928358f-3938-48d9-de80-bc1c815c8295"
      },
      "execution_count": 81,
      "outputs": [
        {
          "output_type": "stream",
          "name": "stdout",
          "text": [
            "Drive already mounted at /gdrive; to attempt to forcibly remount, call drive.mount(\"/gdrive\", force_remount=True).\n"
          ]
        }
      ]
    },
    {
      "cell_type": "code",
      "source": [
        "# download the csv to your local computer\n",
        "from google.colab import files\n",
        "files.download(output_file)\n",
        "print(\"the csv has been downloaded to your local computer. The program has been completed successfully.\")"
      ],
      "metadata": {
        "colab": {
          "base_uri": "https://localhost:8080/",
          "height": 35
        },
        "id": "fQ9dQl1vGxkO",
        "outputId": "6e3c2e88-cad3-438b-e344-db0c08779fc8"
      },
      "execution_count": 82,
      "outputs": [
        {
          "output_type": "display_data",
          "data": {
            "text/plain": [
              "<IPython.core.display.Javascript object>"
            ],
            "application/javascript": [
              "\n",
              "    async function download(id, filename, size) {\n",
              "      if (!google.colab.kernel.accessAllowed) {\n",
              "        return;\n",
              "      }\n",
              "      const div = document.createElement('div');\n",
              "      const label = document.createElement('label');\n",
              "      label.textContent = `Downloading \"${filename}\": `;\n",
              "      div.appendChild(label);\n",
              "      const progress = document.createElement('progress');\n",
              "      progress.max = size;\n",
              "      div.appendChild(progress);\n",
              "      document.body.appendChild(div);\n",
              "\n",
              "      const buffers = [];\n",
              "      let downloaded = 0;\n",
              "\n",
              "      const channel = await google.colab.kernel.comms.open(id);\n",
              "      // Send a message to notify the kernel that we're ready.\n",
              "      channel.send({})\n",
              "\n",
              "      for await (const message of channel.messages) {\n",
              "        // Send a message to notify the kernel that we're ready.\n",
              "        channel.send({})\n",
              "        if (message.buffers) {\n",
              "          for (const buffer of message.buffers) {\n",
              "            buffers.push(buffer);\n",
              "            downloaded += buffer.byteLength;\n",
              "            progress.value = downloaded;\n",
              "          }\n",
              "        }\n",
              "      }\n",
              "      const blob = new Blob(buffers, {type: 'application/binary'});\n",
              "      const a = document.createElement('a');\n",
              "      a.href = window.URL.createObjectURL(blob);\n",
              "      a.download = filename;\n",
              "      div.appendChild(a);\n",
              "      a.click();\n",
              "      div.remove();\n",
              "    }\n",
              "  "
            ]
          },
          "metadata": {}
        },
        {
          "output_type": "display_data",
          "data": {
            "text/plain": [
              "<IPython.core.display.Javascript object>"
            ],
            "application/javascript": [
              "download(\"download_177be7cd-a2fc-41c0-8f6a-49890a8b489c\", \"twsearch-result.csv\", 2646)"
            ]
          },
          "metadata": {}
        },
        {
          "output_type": "stream",
          "name": "stdout",
          "text": [
            "the csv has been downloaded to your local computer. The program has been completed successfully.\n"
          ]
        }
      ]
    }
  ]
}